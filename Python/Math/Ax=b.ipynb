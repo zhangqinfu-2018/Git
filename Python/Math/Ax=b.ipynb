{
 "cells": [
  {
   "cell_type": "code",
   "execution_count": 12,
   "metadata": {},
   "outputs": [
    {
     "data": {
      "text/plain": [
       "array([[  3.5],\n",
       "       [-24. ],\n",
       "       [ 16.5]])"
      ]
     },
     "execution_count": 12,
     "metadata": {},
     "output_type": "execute_result"
    }
   ],
   "source": [
    "import numpy as np\n",
    "A=np.array([[1,2,3],[8,5,6],[3,5,7]])\n",
    "b =np.array([[5], [7],[6]])\n",
    "x=np.linalg.solve(A,b)\n",
    "x"
   ]
  },
  {
   "cell_type": "code",
   "execution_count": 44,
   "metadata": {},
   "outputs": [
    {
     "data": {
      "text/plain": [
       "array([[1.52   ],\n",
       "       [1.201  ],\n",
       "       [0.705  ],\n",
       "       [0.84   ],\n",
       "       [8.20308]])"
      ]
     },
     "execution_count": 44,
     "metadata": {},
     "output_type": "execute_result"
    }
   ],
   "source": [
    "import numpy as np\n",
    "A=np.array([[8,5,4,8,2],[5,5,5,7,0],[7,3,7,12,0],[10,6,4,8,0],[8,7,3,8,0]])\n",
    "b =np.array([[44.11116], [23.010],[29.258],[31.946],[29.402]])\n",
    "x=np.linalg.solve(A,b)\n",
    "x"
   ]
  },
  {
   "cell_type": "code",
   "execution_count": 23,
   "metadata": {},
   "outputs": [
    {
     "data": {
      "text/plain": [
       "array([[313.21],\n",
       "       [329.21],\n",
       "       [289.18],\n",
       "       [304.2 ],\n",
       "       [-61.96]])"
      ]
     },
     "execution_count": 23,
     "metadata": {},
     "output_type": "execute_result"
    }
   ],
   "source": [
    "import numpy as np\n",
    "A=np.array([[8,5,4,8,1],[5,5,5,7,1],[7,3,7,12,1],[10,6,4,8,1],[8,7,3,8,1]])\n",
    "b =np.array([[7680.09], [6725.44],[8792.8],[8635.72],[8049.33]])\n",
    "x=np.linalg.solve(A,b)\n",
    "x"
   ]
  },
  {
   "cell_type": "code",
   "execution_count": 1,
   "metadata": {},
   "outputs": [
    {
     "data": {
      "text/plain": [
       "array([[ 314.09130435],\n",
       "       [ 317.48695652],\n",
       "       [ 271.43043478],\n",
       "       [ 303.47391304],\n",
       "       [1727.96086957]])"
      ]
     },
     "execution_count": 1,
     "metadata": {},
     "output_type": "execute_result"
    }
   ],
   "source": [
    "import numpy as np\n",
    "A=np.array([[5,5,5,4,1],[10,5,5,10,1],[7,4,6,5,1],[5,9,2,10,1],[5,6,4,10,1]])\n",
    "b =np.array([[7456.9], [10848.2],[8342.5],[9733.4],[9323.8]])\n",
    "x=np.linalg.solve(A,b)\n",
    "x"
   ]
  },
  {
   "cell_type": "code",
   "execution_count": 2,
   "metadata": {},
   "outputs": [
    {
     "data": {
      "text/plain": [
       "array([[ 313.21],\n",
       "       [ 329.21],\n",
       "       [ 289.18],\n",
       "       [ 304.2 ],\n",
       "       [2087.04]])"
      ]
     },
     "execution_count": 2,
     "metadata": {},
     "output_type": "execute_result"
    }
   ],
   "source": [
    "import numpy as np\n",
    "A=np.array([[5,5,5,4,1],[10,5,5,10,1],[7,4,6,5,1],[5,9,2,10,1],[5,6,4,10,1]])\n",
    "b =np.array([[7961.84], [11353.09],[8852.43],[10236.34],[9827.07]])\n",
    "x=np.linalg.solve(A,b)\n",
    "x"
   ]
  },
  {
   "cell_type": "code",
   "execution_count": null,
   "metadata": {},
   "outputs": [],
   "source": []
  }
 ],
 "metadata": {
  "kernelspec": {
   "display_name": "Python 3",
   "language": "python",
   "name": "python3"
  },
  "language_info": {
   "codemirror_mode": {
    "name": "ipython",
    "version": 3
   },
   "file_extension": ".py",
   "mimetype": "text/x-python",
   "name": "python",
   "nbconvert_exporter": "python",
   "pygments_lexer": "ipython3",
   "version": "3.5.2"
  }
 },
 "nbformat": 4,
 "nbformat_minor": 2
}
